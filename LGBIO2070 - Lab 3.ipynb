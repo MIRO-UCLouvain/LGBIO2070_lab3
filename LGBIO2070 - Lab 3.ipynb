{
 "cells": [
  {
   "cell_type": "markdown",
   "id": "255549d79a330fbd",
   "metadata": {
    "collapsed": false,
    "jupyter": {
     "outputs_hidden": false
    }
   },
   "source": [
    "# LGBIO2070 — Laboratory session 3: Treatment planning in proton therapy\n",
    "\n",
    "#### *Teaching staff: Eliot Peeters, Romain Schyns, Prof. John A. Lee*\n",
    "#### Contacts :\n",
    "   - eliot.peeters@uclouvain.be\n",
    "   - romain.schyns@uclouvain.be\n",
    "\n",
    "#### **DUE DATE: Sunday, May 25, at 23:59:59**\n",
    "\n",
    "#### Authors: Student1, Student2\n",
    "\n",
    "<a target=\"_blank\" href=\"https://colab.research.google.com/github/MIRO-UCLouvain/LGBIO2070_lab3/blob/main/LGBIO2070%20-%20Lab%203.ipynb\">\n",
    "  <img src=\"https://colab.research.google.com/assets/colab-badge.svg\" alt=\"Open In Colab\"/>\n",
    "  </a>"
   ]
  },
  {
   "cell_type": "markdown",
   "id": "31dda25014ce8650",
   "metadata": {
    "collapsed": false,
    "jupyter": {
     "outputs_hidden": false
    }
   },
   "source": [
    "## 1. Data import and treamtent\n",
    "\n",
    "In this part of the lab, you will get familiar with the data used for the proton therapy plan optimization."
   ]
  },
  {
   "cell_type": "markdown",
   "id": "a89aac5c04cacb3b",
   "metadata": {
    "collapsed": false,
    "jupyter": {
     "outputs_hidden": false
    }
   },
   "source": [
    "### 1.1 Data import with the DICOM format\n",
    "\n",
    "Images used in the clinic are exchanged and registered in the DICOM format, a universal file format which registers patient data together with image data. The different data fields are accessible though multiple data \"[tags](https://www.dicomlibrary.com/dicom/dicom-tags/)\".\n",
    "\n",
    "- **Q1.1** Use the python library [Pydicom](https://pydicom.github.io/pydicom/stable/) to extract the DICOM provided data\n",
    "\n",
    "As you might notice, the DICOM data is not in Hounsfield Unit (HU). To get the HU back, you will need two DICOM tags: *slope* and *intercept*. You will also need to retrieve the DICOM resolution using the *pixel spacing* and *slice thickness* tags.\n",
    "\n",
    "- **Q1.2** Use the DICOM tags to extract the necessary information\n",
    "\n",
    "**Hint**: the website [Innolitics](https://dicom.innolitics.com/ciods) provide comprehensive and readable information on DICOM tags\n",
    "\n",
    "- **Q1.3** Take a moment to examine the pixel spacing and slice thickness. What do these parameters represent, and where do they come from? Can you think of any issues that might occur when visualizing the CT scan in different planes? In which orientations might these problems be most noticeable?\n",
    "> *Answer here*"
   ]
  },
  {
   "cell_type": "code",
   "execution_count": null,
   "id": "956fb65499e861b",
   "metadata": {
    "collapsed": false,
    "jupyter": {
     "outputs_hidden": false
    }
   },
   "outputs": [],
   "source": [
    "# Code here"
   ]
  },
  {
   "cell_type": "markdown",
   "id": "34d4452347bab6c7",
   "metadata": {
    "collapsed": false,
    "jupyter": {
     "outputs_hidden": false
    }
   },
   "source": [
    "Now that you have all the necessary information, you can convert the pixel values to HU and plot the CT scan.\n",
    "- **Q2.1** Convert the pixel values to HU using the correct formula.\n",
    "- **Q2.2** Plot the three different views of the CT scan: axial, coronal, and sagittal. Make sure to keep the same aspect ratio across all views so that the images are accurately represented and comparable.\n",
    "\n",
    "\n",
    "\n",
    "- **Q2.3** Are the slides in the right order? if not, reorder the slides correctly using a specific dicom tag.\n",
    "\n",
    "- **Q2.4** Navigate through the different slides. Do you see anything that captures your attention? If so, where is it located, what might be causing it, and how could this issue be addressed or corrected? (If you prefer to navigate the scan through a graphical interface, you can use the [OHIF viewer](https://viewer-dev.ohif.org/localbasic) and upload the data). \\\n",
    "**Hint**: Look at the region of the mandible. (You do not need to implement your correction strategy)\n",
    "\n",
    "> *Answer here*\n",
    "\n",
    "\n"
   ]
  },
  {
   "cell_type": "code",
   "execution_count": null,
   "id": "b8d10ae822f06742",
   "metadata": {},
   "outputs": [],
   "source": [
    "# Code here"
   ]
  },
  {
   "cell_type": "markdown",
   "id": "536e866f10c8adca",
   "metadata": {},
   "source": [
    "## 1.2 Data for treatment planning optimization\n",
    "\n",
    "As using a 3D CT scan for optimization will be too computationally expensive and the conversion of the data to a 3D matrix will be too memory consuming, we will use a 2D slice of the CT scan for the optimization.\n",
    "\n",
    " The conversion of the DICOM data to usable numpy arrays can be quite cumbersome; therefore, your nice teaching assistants provided you with compressed numpy arrays concatenated into a dictionary for the segmented organs and numpy arrays for the CT and the beamlet matrix. To access the data, you will need to use the following code:\n",
    "\n",
    "```python\n",
    "import numpy as np\n",
    "# The segmented organs\n",
    "RTSTUCTS_phase_0 = np.load(\"data/RTSTRUCT_dict_phase_0.npz\", allow_pickle=True)\n",
    "RTSTUCTS_phase_5 = np.load(\"data/RTSTRUCT_dict_phase_5.npz\", allow_pickle=True)\n",
    "\n",
    "#example of the RTSTRUCTS dictionary\n",
    "CTV = RTSTUCTS_phase_0[\"CTV\"]\n",
    "\n",
    "# The CT scans\n",
    "ct_phase_0 = np.load(\"data/CT_phase_0.npy\",allow_pickle=True)\n",
    "ct_phase_5 = np.load(\"data/CT_phase_5.npy\",allow_pickle=True)\n",
    "\n",
    "# The beamlet matrixes\n",
    "beamlets_phase_0 = np.load(\"data/Beamlets_phase_0.npy\",allow_pickle=True)\n",
    "beamlets_phase_5 = np.load(\"data/Beamlets_phase_5.npy\",allow_pickle=True)\n",
    "\n",
    "```"
   ]
  },
  {
   "cell_type": "markdown",
   "id": "da7b65c7998c67ba",
   "metadata": {},
   "source": [
    "In the RTSTRUCTS dictionary, you will find the following arrays (the arrays are boolean 512x512 mask) :\n",
    "\n",
    "- CTV\n",
    "- Heart\n",
    "- Lungs\n",
    "- Liver\n",
    "- Spinal canal\n",
    "- Body"
   ]
  },
  {
   "cell_type": "markdown",
   "id": "5df9bc02c0c2b3ec",
   "metadata": {},
   "source": [
    "As you can see, we provide you 2 slices of 2 different CT scans. Those slices originate from a 4DCT. A 4DCT that records multiple CT scans over time. Here we provide you with 2 different phases of the 4DCT. The first phase is the 0% respiratory phase and the second is the 50% phase.\\\n",
    "\n",
    "We will first use the 0% phase.\n",
    "- **Q3.1** Explore and plot different HU values of the CT scans for -1000 HU, 0 HU, 500 HU, 1000 HU.\n",
    "- **Q3.2** To what tissue correspond these HU values?\n",
    "> *Answer here*\n",
    "\n",
    "- **Q3.3** Display the different binary masks and overlay them on the CT\n",
    "\n",
    "**Hint**: use [plt.countour](https://matplotlib.org/stable/api/_as_gen/matplotlib.pyplot.contour.html)"
   ]
  },
  {
   "cell_type": "code",
   "execution_count": null,
   "id": "ecfb7ce291b230fb",
   "metadata": {},
   "outputs": [],
   "source": [
    "# code here"
   ]
  },
  {
   "cell_type": "markdown",
   "id": "223090879a821f3a",
   "metadata": {},
   "source": [
    "Now we will explore the pre-computed beamlets. Those have been computed though the use of a Monte-Carlo simulator embeded in the open-source treatment planning system [OpenTPS](https://opentps.org/).\n",
    "\n",
    "- **Q4.1** Display several beamlets on the 0% phase CT scan. (**e. g.** beamlet index 50, 100, 150 and 200).\n",
    "\n",
    "**Hint**: use the colormap 'jet' to display the beamlets.\n",
    "\n",
    "**Hint 2**: each beamlet is stored in a 1D array, you will need to reshape them.\n",
    "\n",
    "- **Q4.2** To what corresponds the dimension of the beamlet matrix?\n",
    "\n",
    ">*Answer here*\n",
    "\n",
    "- **Q4.3** Display the same index of the uncorrected beamlets on the 50% phase CT scan. What do you observe?\n",
    "\n",
    "> *Answer here*"
   ]
  },
  {
   "cell_type": "code",
   "execution_count": null,
   "id": "3979e5befed62c4d",
   "metadata": {},
   "outputs": [],
   "source": [
    "# code here"
   ]
  },
  {
   "cell_type": "markdown",
   "id": "7c92ee51f1fd85ba",
   "metadata": {},
   "source": [
    "- **Q4.4** What do you need to correct in the uncorrected pre-computed beamlets?\n",
    "\n",
    "**Hint**: The treatment delivery technique used is pencil beam scanning. \\\n",
    "**Hint 2**: Display the beamlet on the CT while contouring the CTV.\n",
    "\n",
    "> *Answer here*"
   ]
  },
  {
   "cell_type": "markdown",
   "id": "b650dab38576b66f",
   "metadata": {},
   "source": [
    "## 2. Treatment plan optimization\n",
    "\n",
    "We will now get into the principal part of the lab: the treatment plan optimization. To guide you through this we will go step by step into the optimization process."
   ]
  },
  {
   "cell_type": "markdown",
   "id": "abf34793c206c57e",
   "metadata": {},
   "source": [
    "### 2.1 Formulating the optimization problem\n",
    "\n",
    "In intensity modulated proton therapy (IMPT) we can formulate the optimization problem as follows:\n",
    "\n",
    "\\begin{equation}\n",
    "    \\begin{split}\n",
    "        \\min_{\\textbf{x}} \\{\\sum_j w_j f_j(\\mathcal{D})\\}\\\\\n",
    "        \\textrm{s.t.} & \\quad \\mathcal{D} = \\mathcal{B}\\textbf{x}\\\\\n",
    "        &\\quad  x\\geq0 \\quad \\forall x \\in \\textbf{x}\\\\\n",
    "    \\end{split}\n",
    "\\end{equation}\n",
    "\n",
    "where the variables are :\n",
    "<center>\n",
    "\n",
    "| Variable | Description | Dimension |\n",
    "|----------------|----------------|----------------|\n",
    "| $\\textbf{D}$   | Dose distribution in 2D | $\\mathbb{R}^{n_x \\times n_y}$ |\n",
    "| $\\mathcal{D}$  | Dose distribution flattened | $\\mathbb{R}^{N}$ |\n",
    "| $\\mathcal{B}$  | Beamlet matrix | $\\mathbb{R}^{N \\times m}$ |\n",
    "| $\\textbf{x}$   | Beamlet weights | $\\mathbb{R}^m$ |\n",
    "| $f_j$            | Objective function | $\\mathbb{R}$ |\n",
    "| $\\sum_j w_j f_j$ | The total objective function| $\\mathbb{R}$ |\n",
    "| $w_j$          | The weight of each objectif | $\\mathbb{R}$ |\n",
    "\n",
    "</center>\n",
    "\n",
    "To impose positive weights, we will use the following transformation:\n",
    "\\begin{equation}\n",
    "x_i := u_i^2\n",
    "\\end{equation}\n",
    "\n",
    "where $u$ is the new optimization variable.\n",
    "\n",
    "In this session, we will use three types of objective functions :\n",
    "\n",
    "\\begin{equation}\n",
    "f_{max}(\\mathcal{D}) = \\frac{1}{N_r} \\sum_i^{N_r} \\max\\{ 0 ; (d_i - d_{presc}) \\}^2\n",
    "\\end{equation}\n",
    "\\begin{equation}\n",
    "f_{min}(\\mathcal{D}) = \\frac{1}{N_r} \\sum_i^{N_r} \\min\\{ 0 ; (d_i - d_{presc}) \\}^2\n",
    "\\end{equation}\n",
    "\\begin{equation}\n",
    "f_{max-mean}(\\mathcal{D}) = \\max\\{ 0 ; (\\frac{1}{N_r} (\\sum_i^{N_r} d_i) - d_{presc}) \\}^2\n",
    "\\end{equation}\n",
    "\n",
    "where $d_i$ is the dose at voxel $i$, $d_{presc}$ is the prescription dose and $N_r$ is the number of voxels in the considered region.\n",
    "\n",
    "As we will use a gradient descent approach to optimize the treatment plan, we will also need to compute the gradient of the objective function with respect to the optimization variable.\n",
    "- **Q5.1** Write the gradient of the three above-described cost functions.\n",
    "\n",
    "**Hint**: You will need to use the chain rule. \\\n",
    "**Hint 2**: Think carefully about the dimensions of the gradient.\n",
    "\n",
    "You can write Latex equations in Markdown cells the following way:\n",
    "\n",
    "```markdown\n",
    "\\begin{equation}\n",
    "(a+b)^2 = a^2 + 2ab + b^2\n",
    "\\end{equation}\n",
    "```"
   ]
  },
  {
   "cell_type": "markdown",
   "id": "33a4f306079384e9",
   "metadata": {},
   "source": [
    ">*Answer here*"
   ]
  },
  {
   "cell_type": "markdown",
   "id": "5b4390d974c77b01",
   "metadata": {},
   "source": [
    "### 2.2 Implementation of the cost function\n",
    "\n",
    "The constraints you will need to implement are the following:\n",
    "\n",
    "<center>\n",
    "\n",
    "| Region | Constraint             |\n",
    "|----------------|------------------------|\n",
    "| CTV | $D_{max} < 60 Gy$      |\n",
    "| CTV | $D_{min} > 50.4 Gy$    |\n",
    "| Heart | $D_{max-mean} < 26 Gy$ |\n",
    "| Lungs | $D_{max-mean} < 7 Gy$  |\n",
    "| Liver | $D_{max-mean} < 32 Gy$ |\n",
    "| Spinal canal | $D_{max} < 20 Gy$      |\n",
    "| Body | $D_{max} < 10 Gy$      |\n",
    "\n",
    "</center>\n",
    "\n",
    "Those constraints are based on the *QUANTEC* tables that you can find in the following paper: \"The Use of Normal Tissue Complication Probability (NTCP) Models in the Clinic\" by Marks et al. 2010.\n",
    "(doi:10.1016/j.ijrobp.2009.07.1754.)\n",
    "\n",
    "- **Q6.1** Implement the evaluation of the cost function\n",
    "- **Q6.2** Implement the gradient of the cost function"
   ]
  },
  {
   "cell_type": "code",
   "execution_count": null,
   "id": "3c97f708c4d31ef6",
   "metadata": {},
   "outputs": [],
   "source": [
    "# code here"
   ]
  },
  {
   "cell_type": "markdown",
   "id": "8cc57897d80845b",
   "metadata": {},
   "source": [
    "### 2.3 Gradient descent\n",
    "\n",
    "Now that you have every ingredient to implement the optimization, you can implement the gradient descent algorithm.\n",
    "- **Q7.1** Imlement the gradient descent algorithm\n",
    "- **Q7.2** Optimize your plan with $w_j=1 \\enspace \\forall j$.\n",
    "- **Q7.3** Vary the step size, what do you observe?\n",
    ">*Answer here*\n",
    "\n",
    "**Hint**: The optimization process can be quite slow. Try to stay in matrix form as much as possible."
   ]
  },
  {
   "cell_type": "code",
   "execution_count": null,
   "id": "2a931c5750b506a7",
   "metadata": {},
   "outputs": [],
   "source": [
    "# code here"
   ]
  },
  {
   "cell_type": "markdown",
   "id": "67d7409ae1622689",
   "metadata": {},
   "source": [
    "### 2.4 Plan evaluation\n",
    "\n",
    "Now that you have optimized the treatment plan, you can evaluate it. Therefore, you will use the most common tool of treatment plan evaluation: the Dose Volume Histogram (DVH).\n",
    "\n",
    "Mathematically, we can describe DVH the following way;\n",
    "\n",
    "Let :\n",
    "\\begin{equation}\n",
    "     \\kappa : \\mathbb{R}^+_0 \\rightarrow \\mathbb{N}_0 \\enspace | \\enspace D \\rightarrow \\kappa(D) \\enspace,\n",
    "\\end{equation}\n",
    "\n",
    "and the bins\n",
    "\n",
    "\\begin{equation}\n",
    "    \\begin{split}\n",
    "        k \\in \\mathcal{K} := \\{0,...,K\\}\\\\\n",
    "        \\textrm{s.t.} \\quad & \\kappa(0)=0\\\\\n",
    "        & \\kappa(D_{max}) = K \\enspace. \\\\\n",
    "    \\end{split}\n",
    "\\end{equation}\n",
    "\n",
    "Then the DVH for a volume of $N_r$ elementary isotropic voxels in a region r, each receiving a dose $d_i$ is defined by :\n",
    "\n",
    "\\begin{equation}\n",
    "    h_k = \\sum_{i=1}^N \\delta_{k, \\kappa(d_i)} \\enspace,\n",
    "\\end{equation}\n",
    "\n",
    "\\begin{equation}\n",
    "    \\textrm{DVH}_k = \\frac{100\\%}{N} \\sum_{j=k}^K h_j \\enspace.\n",
    "\\end{equation}\n",
    "\n",
    "\n",
    "In words, the DVH is: on the x-axis a certain dose value and on the y-axis the percentage of voxels that received at least this dose.\n",
    "\n",
    "- **Q8.1** Implement the DVH function \\\n",
    "**Hint**: The functions [np.histogram](https://numpy.org/doc/stable/reference/generated/numpy.histogram.html), [np.cumsum](https://numpy.org/doc/stable/reference/generated/numpy.cumsum.html) and [np.flip](https://numpy.org/doc/stable/reference/generated/numpy.flip.html) can be useful.\n",
    "- **Q8.2** Compute the DVH for the CTV, Heart, Lungs, Liver, and Spinal canal\n",
    "- **Q8.3** What do you observe with respect to the above-described constraints?\n",
    ">*Answer here*"
   ]
  },
  {
   "cell_type": "code",
   "execution_count": null,
   "id": "866918f1594a550a",
   "metadata": {},
   "outputs": [],
   "source": [
    "# code here"
   ]
  },
  {
   "cell_type": "markdown",
   "id": "5a3b373364243c3c",
   "metadata": {},
   "source": [
    "- **Q8.4** Compute the D98 and D2 for the CTV, Heart, Lungs, Liver, and Spinal canal\n",
    "- **Q8.5** Compute D98-D2 for the CTV, Heart, Lungs, Liver, and Spinal canal\n",
    "- **Q8.6** What do you observe with respect to the above-described constraints?\n",
    ">*Answer here*"
   ]
  },
  {
   "cell_type": "code",
   "execution_count": null,
   "id": "11c33e02934ded38",
   "metadata": {},
   "outputs": [],
   "source": [
    "# code here"
   ]
  },
  {
   "cell_type": "markdown",
   "id": "3235118482cdcbc6",
   "metadata": {},
   "source": [
    "- **Q8.7** Play with the $w_j$ values to reach the optimal plan.\n",
    "- **Q8.8** What do you observe with respect to the above-described constraints?\n",
    ">*Answer here*"
   ]
  },
  {
   "cell_type": "code",
   "execution_count": null,
   "id": "cf1dbbd6aabf95c2",
   "metadata": {},
   "outputs": [],
   "source": [
    "# code here"
   ]
  },
  {
   "cell_type": "markdown",
   "id": "b14322d6c2acd3be",
   "metadata": {},
   "source": [
    "### 2.5 Phase analysis\n",
    "\n",
    "Now that you have optimized the treatment plan for the 0% phase, you will explore what happens when you use the 50% phase.\n",
    "\n",
    "- **Q9.1** Keep the same weights and compute the dose distribution for the 50% phase with the correct beamlets and CT.\n",
    "- **Q9.2** What do you observe? (Do not forget to display the RTSTRUCTS masks)\n",
    ">*Answer here*"
   ]
  },
  {
   "cell_type": "code",
   "execution_count": null,
   "id": "52ea1fcecfce3c39",
   "metadata": {},
   "outputs": [],
   "source": [
    "# code here"
   ]
  },
  {
   "cell_type": "markdown",
   "id": "b2418622c2277893",
   "metadata": {},
   "source": [
    "- **Q9.3** Compute the DVH for the 50% phase.\n",
    "- **Q9.4** Overlay the DVH of the 0% phase and the 50% phase on the same plot.\n",
    "- **Q9.5** What do you observe?\n",
    ">*Answer here*"
   ]
  },
  {
   "cell_type": "code",
   "execution_count": null,
   "id": "e5774d6bd867ca89",
   "metadata": {},
   "outputs": [],
   "source": [
    "# code here"
   ]
  },
  {
   "cell_type": "markdown",
   "id": "512a3c00aab704a6",
   "metadata": {},
   "source": [
    "Let us now suppose that you have the corrected beamlets for the 50% phase at your disposition but that you do not know in which phase is the patient during the delivery. We will explore some strategies to ensure proper target coverage. Answer the following questions based on the course and some of your own research (do not forget to cite your sources).\n",
    "\n",
    "- **Q9.6** What strategy can you put in place regarding the treatment delivery to ensure proper target coverage?\n",
    ">*Answer here*\n",
    "- **Q9.7** What strategy can you put in place regarding the treatment optimization to ensure proper target coverage?\n",
    ">*Answer here*\n",
    "- **Q9.8** Write a new cost function that would ensure proper target coverage.\n",
    ">*Answer here*"
   ]
  },
  {
   "cell_type": "markdown",
   "id": "afa3852fb4a8aec4",
   "metadata": {},
   "source": [
    "## A. Bonuses\n",
    "\n",
    "In this section, we will propose you some bonus questions. You can choose to answer to one of them (or all, but it will not get you more points).\n",
    "\n",
    "The answers to these questions will be based on your own research, therefore remember to cite your sources. (Do not worry, the following questions will not ask you to much research).\n",
    "\n",
    "### A.1 Tumor control probability and normal tissue complication probability\n",
    "\n",
    "The tumor control probability (TCP) is a measure of the probability of tumor control after treatment. As there are numerous way of expressing the TCP, we will ask you to focus on the one based on the *linear quadratic surviving fraction*.\n",
    "\n",
    "- **QA1.1** Write the two main TCP models that exist based on the linear quadratic surviving fraction and describe their parameters (with their units) as their differences.\\\n",
    ">*Answer here*\n",
    "- **QA1.2** Implement the two models and plot the TCP as a function of the dose for the 0% and 50% phases.\n",
    "- **QA1.3** What do you observe?\n",
    ">*Answer here*\n"
   ]
  },
  {
   "cell_type": "code",
   "execution_count": null,
   "id": "b529bc6537553b18",
   "metadata": {},
   "outputs": [],
   "source": [
    "# code here"
   ]
  },
  {
   "cell_type": "markdown",
   "id": "dc212d15408a6260",
   "metadata": {},
   "source": [
    "Now you will explore the normal tissue complication probability (NTCP). Again as there are even more expression for the NTCP you will focus on the one based on the linear quadratic surviving fraction.\n",
    "\n",
    "- **QA1.4** What are the two type of organs at risk that exist and how do they differ?\n",
    "- **QA1.5** What are their respective NTCP model ?\n",
    ">*Answer here*\n",
    "-  **QA1.6** Compute the NTCP for the heart, lungs, liver and spinal canal using the correct model each time\n"
   ]
  },
  {
   "cell_type": "code",
   "execution_count": null,
   "id": "9c9ae1bcf5a5f8a0",
   "metadata": {},
   "outputs": [],
   "source": [
    "# code here"
   ]
  },
  {
   "cell_type": "markdown",
   "id": "de35e9458ada9238",
   "metadata": {},
   "source": [
    "### A.2 Equivalent Uniform Dose\n",
    "\n",
    "In this question, you will explore the concept of equivalent uniform dose (EUD).\n",
    "\n",
    "- **QA2.1** What is the paradygm of the equivalent uniform dose?\n",
    ">*Answer here*\n",
    "\n",
    "You will now compare to type of fomulation of the equivalent uniform dose : the EUD based on the *linear quadratic surviving fraction* and the EUD based on the *generalized equivalent uniform dose* (also called gEUD).\n",
    "- **QA2.3** What are their respective formula and what do their parameters mean?\n",
    ">*Answer here*\n",
    "- **QA2.4** Implement the two models of EUD for the CTV, heart, lungs, liver and spinal canal for the 0% and 50% phases.\n",
    "- **QA2.5** What do you observe?\n",
    ">*Answer here*"
   ]
  },
  {
   "cell_type": "code",
   "execution_count": null,
   "id": "67ab5c3c08ca775c",
   "metadata": {},
   "outputs": [],
   "source": [
    "# code here"
   ]
  },
  {
   "cell_type": "markdown",
   "id": "a8e6160b28320d5e",
   "metadata": {},
   "source": [
    "## Instruction for submission\n",
    "\n",
    "- This notebook is due on **Sunday, May 25, at 23:59:59**.\n",
    "- Send your filled notebook be email to the two assisants with the naming convention: **Lastname1_Lastname2_LGBIO2070_Lab3.ipynb**.\n",
    "- To not forget to write your names at the beginning of the notebook.\n",
    "- All the cells should be pre-run, and the notebook should be clean.\n",
    "- Do not send the numpy and DICOM files, only the notebook.\n",
    "- Keep the numpy data under the \"data/\" folder and the DICOM under the \"CT/\" folder.\n"
   ]
  }
 ],
 "metadata": {
  "kernelspec": {
   "display_name": "Python 3 (ipykernel)",
   "language": "python",
   "name": "python3"
  },
  "language_info": {
   "codemirror_mode": {
    "name": "ipython",
    "version": 3
   },
   "file_extension": ".py",
   "mimetype": "text/x-python",
   "name": "python",
   "nbconvert_exporter": "python",
   "pygments_lexer": "ipython3",
   "version": "3.12.7"
  }
 },
 "nbformat": 4,
 "nbformat_minor": 5
}
